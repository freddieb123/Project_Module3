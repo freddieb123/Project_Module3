{
 "cells": [
  {
   "cell_type": "markdown",
   "metadata": {
    "slideshow": {
     "slide_type": "slide"
    }
   },
   "source": [
    "   # Predicting Interview Attendance"
   ]
  },
  {
   "cell_type": "markdown",
   "metadata": {
    "slideshow": {
     "slide_type": "slide"
    }
   },
   "source": [
    "The Interview Attendance problem on Kaggle uses data collected by Indian academics. The data can be found [here](https://www.kaggle.com/vishnusraghavan/the-interview-attendance-problem).\n",
    "\n",
    "The problem is a binary classification one - potential interview attendees either attended or they didn't. Our aim here is to predict whether they attend or not, based on the independent features provided (demographic data plus answers to some surveys). I will use this as an opportunity to test out multiple classification algorithms, and ensemble methods to try and predict whether a interviwee attends. \n",
    "\n",
    "## Contents:\n",
    "\n",
    "1. [TLDR](#TLDR)\n",
    "2. [The Data](#The_Data)\n",
    "3. [Data Exploration](#Data_Exp)\n",
    "4. [Classification](#Classification)\n",
    "    1. [Decision Trees](#DT)\n",
    "    2. [Random Forest](#RF)\n",
    "    3. [XGBoost](#XG)\n",
    "    4. [K Nearest Neighbours](#KNN)\n",
    "    5. [Naive Bayes](#NB)\n",
    "    6. [Support Vector Machines](#SVM)\n",
    "5. [Further Work](#Further_Work)"
   ]
  },
  {
   "cell_type": "markdown",
   "metadata": {},
   "source": [
    "<a id='TLDR'></a>"
   ]
  },
  {
   "cell_type": "markdown",
   "metadata": {},
   "source": [
    "## TLDR"
   ]
  },
  {
   "cell_type": "markdown",
   "metadata": {},
   "source": [
    "We tried a number of number of preprocessing techniques and a number of classification algorithms, evaluating them by their accuracy. The XGBoost ensemble method produced the best results. However this algorithm takes the longest to train, so depending on use case, may still not be the favoured one! \n",
    "\n",
    "Overall accuracy achieved: 74.35%\n",
    "\n",
    "The best feature by itself was the 'expected attendance' feature. This produced around 60% accuracy on its own. So there would be scope for reviewing the questions asked to see if we could improve the data flowing into the models. "
   ]
  },
  {
   "cell_type": "markdown",
   "metadata": {},
   "source": [
    "<a id='The_Data'></a>"
   ]
  },
  {
   "cell_type": "markdown",
   "metadata": {
    "slideshow": {
     "slide_type": "subslide"
    }
   },
   "source": [
    "   ## The Data"
   ]
  },
  {
   "cell_type": "markdown",
   "metadata": {},
   "source": [
    "Import the data and show the first 5 rows."
   ]
  },
  {
   "cell_type": "code",
   "execution_count": 72,
   "metadata": {
    "scrolled": true,
    "slideshow": {
     "slide_type": "slide"
    }
   },
   "outputs": [
    {
     "data": {
      "text/html": [
       "<div>\n",
       "<style scoped>\n",
       "    .dataframe tbody tr th:only-of-type {\n",
       "        vertical-align: middle;\n",
       "    }\n",
       "\n",
       "    .dataframe tbody tr th {\n",
       "        vertical-align: top;\n",
       "    }\n",
       "\n",
       "    .dataframe thead th {\n",
       "        text-align: right;\n",
       "    }\n",
       "</style>\n",
       "<table border=\"1\" class=\"dataframe\">\n",
       "  <thead>\n",
       "    <tr style=\"text-align: right;\">\n",
       "      <th></th>\n",
       "      <th>Date of Interview</th>\n",
       "      <th>Client name</th>\n",
       "      <th>Industry</th>\n",
       "      <th>Location</th>\n",
       "      <th>Position to be closed</th>\n",
       "      <th>Nature of Skillset</th>\n",
       "      <th>Interview Type</th>\n",
       "      <th>Name(Cand ID)</th>\n",
       "      <th>Gender</th>\n",
       "      <th>Candidate Current Location</th>\n",
       "      <th>...</th>\n",
       "      <th>Have you obtained the necessary permission to start at the required time</th>\n",
       "      <th>Hope there will be no unscheduled meetings</th>\n",
       "      <th>Can I Call you three hours before the interview and follow up on your attendance for the interview</th>\n",
       "      <th>Can I have an alternative number/ desk number. I assure you that I will not trouble you too much</th>\n",
       "      <th>Have you taken a printout of your updated resume. Have you read the JD and understood the same</th>\n",
       "      <th>Are you clear with the venue details and the landmark.</th>\n",
       "      <th>Has the call letter been shared</th>\n",
       "      <th>Expected Attendance</th>\n",
       "      <th>Observed Attendance</th>\n",
       "      <th>Marital Status</th>\n",
       "    </tr>\n",
       "  </thead>\n",
       "  <tbody>\n",
       "    <tr>\n",
       "      <th>0</th>\n",
       "      <td>13.02.2015</td>\n",
       "      <td>Hospira</td>\n",
       "      <td>Pharmaceuticals</td>\n",
       "      <td>Chennai</td>\n",
       "      <td>Production- Sterile</td>\n",
       "      <td>Routine</td>\n",
       "      <td>Scheduled Walkin</td>\n",
       "      <td>Candidate 1</td>\n",
       "      <td>Male</td>\n",
       "      <td>Chennai</td>\n",
       "      <td>...</td>\n",
       "      <td>Yes</td>\n",
       "      <td>Yes</td>\n",
       "      <td>Yes</td>\n",
       "      <td>Yes</td>\n",
       "      <td>Yes</td>\n",
       "      <td>Yes</td>\n",
       "      <td>Yes</td>\n",
       "      <td>Yes</td>\n",
       "      <td>No</td>\n",
       "      <td>Single</td>\n",
       "    </tr>\n",
       "    <tr>\n",
       "      <th>1</th>\n",
       "      <td>13.02.2015</td>\n",
       "      <td>Hospira</td>\n",
       "      <td>Pharmaceuticals</td>\n",
       "      <td>Chennai</td>\n",
       "      <td>Production- Sterile</td>\n",
       "      <td>Routine</td>\n",
       "      <td>Scheduled Walkin</td>\n",
       "      <td>Candidate 2</td>\n",
       "      <td>Male</td>\n",
       "      <td>Chennai</td>\n",
       "      <td>...</td>\n",
       "      <td>Yes</td>\n",
       "      <td>Yes</td>\n",
       "      <td>Yes</td>\n",
       "      <td>Yes</td>\n",
       "      <td>Yes</td>\n",
       "      <td>Yes</td>\n",
       "      <td>Yes</td>\n",
       "      <td>Yes</td>\n",
       "      <td>No</td>\n",
       "      <td>Single</td>\n",
       "    </tr>\n",
       "    <tr>\n",
       "      <th>2</th>\n",
       "      <td>13.02.2015</td>\n",
       "      <td>Hospira</td>\n",
       "      <td>Pharmaceuticals</td>\n",
       "      <td>Chennai</td>\n",
       "      <td>Production- Sterile</td>\n",
       "      <td>Routine</td>\n",
       "      <td>Scheduled Walkin</td>\n",
       "      <td>Candidate 3</td>\n",
       "      <td>Male</td>\n",
       "      <td>Chennai</td>\n",
       "      <td>...</td>\n",
       "      <td>NaN</td>\n",
       "      <td>Na</td>\n",
       "      <td>NaN</td>\n",
       "      <td>NaN</td>\n",
       "      <td>NaN</td>\n",
       "      <td>NaN</td>\n",
       "      <td>NaN</td>\n",
       "      <td>Uncertain</td>\n",
       "      <td>No</td>\n",
       "      <td>Single</td>\n",
       "    </tr>\n",
       "    <tr>\n",
       "      <th>3</th>\n",
       "      <td>13.02.2015</td>\n",
       "      <td>Hospira</td>\n",
       "      <td>Pharmaceuticals</td>\n",
       "      <td>Chennai</td>\n",
       "      <td>Production- Sterile</td>\n",
       "      <td>Routine</td>\n",
       "      <td>Scheduled Walkin</td>\n",
       "      <td>Candidate 4</td>\n",
       "      <td>Male</td>\n",
       "      <td>Chennai</td>\n",
       "      <td>...</td>\n",
       "      <td>Yes</td>\n",
       "      <td>Yes</td>\n",
       "      <td>No</td>\n",
       "      <td>Yes</td>\n",
       "      <td>No</td>\n",
       "      <td>Yes</td>\n",
       "      <td>Yes</td>\n",
       "      <td>Uncertain</td>\n",
       "      <td>No</td>\n",
       "      <td>Single</td>\n",
       "    </tr>\n",
       "    <tr>\n",
       "      <th>4</th>\n",
       "      <td>13.02.2015</td>\n",
       "      <td>Hospira</td>\n",
       "      <td>Pharmaceuticals</td>\n",
       "      <td>Chennai</td>\n",
       "      <td>Production- Sterile</td>\n",
       "      <td>Routine</td>\n",
       "      <td>Scheduled Walkin</td>\n",
       "      <td>Candidate 5</td>\n",
       "      <td>Male</td>\n",
       "      <td>Chennai</td>\n",
       "      <td>...</td>\n",
       "      <td>Yes</td>\n",
       "      <td>Yes</td>\n",
       "      <td>Yes</td>\n",
       "      <td>No</td>\n",
       "      <td>Yes</td>\n",
       "      <td>Yes</td>\n",
       "      <td>Yes</td>\n",
       "      <td>Uncertain</td>\n",
       "      <td>No</td>\n",
       "      <td>Married</td>\n",
       "    </tr>\n",
       "  </tbody>\n",
       "</table>\n",
       "<p>5 rows × 23 columns</p>\n",
       "</div>"
      ],
      "text/plain": [
       "  Date of Interview Client name         Industry Location  \\\n",
       "0        13.02.2015     Hospira  Pharmaceuticals  Chennai   \n",
       "1        13.02.2015     Hospira  Pharmaceuticals  Chennai   \n",
       "2        13.02.2015     Hospira  Pharmaceuticals  Chennai   \n",
       "3        13.02.2015     Hospira  Pharmaceuticals  Chennai   \n",
       "4        13.02.2015     Hospira  Pharmaceuticals  Chennai   \n",
       "\n",
       "  Position to be closed Nature of Skillset    Interview Type Name(Cand ID)  \\\n",
       "0   Production- Sterile            Routine  Scheduled Walkin   Candidate 1   \n",
       "1   Production- Sterile            Routine  Scheduled Walkin   Candidate 2   \n",
       "2   Production- Sterile            Routine  Scheduled Walkin   Candidate 3   \n",
       "3   Production- Sterile            Routine  Scheduled Walkin   Candidate 4   \n",
       "4   Production- Sterile            Routine  Scheduled Walkin   Candidate 5   \n",
       "\n",
       "  Gender Candidate Current Location  ...  \\\n",
       "0   Male                    Chennai  ...   \n",
       "1   Male                    Chennai  ...   \n",
       "2   Male                    Chennai  ...   \n",
       "3   Male                    Chennai  ...   \n",
       "4   Male                    Chennai  ...   \n",
       "\n",
       "  Have you obtained the necessary permission to start at the required time  \\\n",
       "0                                                Yes                         \n",
       "1                                                Yes                         \n",
       "2                                                NaN                         \n",
       "3                                                Yes                         \n",
       "4                                                Yes                         \n",
       "\n",
       "  Hope there will be no unscheduled meetings  \\\n",
       "0                                        Yes   \n",
       "1                                        Yes   \n",
       "2                                         Na   \n",
       "3                                        Yes   \n",
       "4                                        Yes   \n",
       "\n",
       "  Can I Call you three hours before the interview and follow up on your attendance for the interview  \\\n",
       "0                                                Yes                                                   \n",
       "1                                                Yes                                                   \n",
       "2                                                NaN                                                   \n",
       "3                                                 No                                                   \n",
       "4                                                Yes                                                   \n",
       "\n",
       "  Can I have an alternative number/ desk number. I assure you that I will not trouble you too much  \\\n",
       "0                                                Yes                                                 \n",
       "1                                                Yes                                                 \n",
       "2                                                NaN                                                 \n",
       "3                                                Yes                                                 \n",
       "4                                                 No                                                 \n",
       "\n",
       "  Have you taken a printout of your updated resume. Have you read the JD and understood the same  \\\n",
       "0                                                Yes                                               \n",
       "1                                                Yes                                               \n",
       "2                                                NaN                                               \n",
       "3                                                 No                                               \n",
       "4                                                Yes                                               \n",
       "\n",
       "  Are you clear with the venue details and the landmark.  \\\n",
       "0                                                Yes       \n",
       "1                                                Yes       \n",
       "2                                                NaN       \n",
       "3                                                Yes       \n",
       "4                                                Yes       \n",
       "\n",
       "  Has the call letter been shared Expected Attendance Observed Attendance  \\\n",
       "0                             Yes                 Yes                  No   \n",
       "1                             Yes                 Yes                  No   \n",
       "2                             NaN           Uncertain                  No   \n",
       "3                             Yes           Uncertain                  No   \n",
       "4                             Yes           Uncertain                  No   \n",
       "\n",
       "  Marital Status  \n",
       "0         Single  \n",
       "1         Single  \n",
       "2         Single  \n",
       "3         Single  \n",
       "4        Married  \n",
       "\n",
       "[5 rows x 23 columns]"
      ]
     },
     "execution_count": 72,
     "metadata": {},
     "output_type": "execute_result"
    }
   ],
   "source": [
    "import pandas as pd\n",
    "\n",
    "df = pd.read_csv('Interview.csv')\n",
    "df = df[df.columns[:-5]]\n",
    "df.head()"
   ]
  },
  {
   "cell_type": "markdown",
   "metadata": {},
   "source": [
    "The column titles need tidying up"
   ]
  },
  {
   "cell_type": "code",
   "execution_count": 73,
   "metadata": {},
   "outputs": [],
   "source": [
    "df.columns = ['Interview_Date', 'Client', 'Industry', 'Location',\n",
    "       'Position', 'Skillset', 'Interview_Type',\n",
    "       'Cand_ID', 'Gender', 'Candidate_Current_Location',\n",
    "       'Candidate_Job_Location', 'Interview_Venue',\n",
    "       'Candidate_Native_location',\n",
    "       'Permission_acquired',\n",
    "       'No_unscheduled',\n",
    "       'Call_before_and_follow_up',\n",
    "       'Extra_phone_number',\n",
    "       'Got_CV_and_read_JD',\n",
    "       'Clear_on_venue',\n",
    "       'Letter_shared', 'Expected_Attendance',\n",
    "       'Observed_Attendance', 'Marital_Status']"
   ]
  },
  {
   "cell_type": "code",
   "execution_count": 74,
   "metadata": {},
   "outputs": [],
   "source": [
    "#Helper function to clean up the dates column\n",
    "def clean_date(date):\n",
    "    date = date.str.strip()\n",
    "    date = date.str.split(\"&\").str[0]\n",
    "    date = date.str.replace('–', '/')\n",
    "    date = date.str.replace('.', '/')\n",
    "    date = date.str.replace('Apr', '04')\n",
    "    date = date.str.replace('-', '/')\n",
    "    date = date.str.replace(' ', '/')\n",
    "    date = date.str.replace('//+', '/')\n",
    "    return date"
   ]
  },
  {
   "cell_type": "code",
   "execution_count": 75,
   "metadata": {
    "scrolled": true
   },
   "outputs": [],
   "source": [
    "#Further work to clean up the dates column and turn it into a Date Object\n",
    "df['Interview_Date'] = clean_date(df['Interview_Date'])\n",
    "df['year'] = df['Interview_Date'].str.split(\"/\").str[2]\n",
    "df['day'] = df['Interview_Date'].str.split(\"/\").str[0]\n",
    "df['month'] = df['Interview_Date'].str.split(\"/\").str[1]\n",
    "\n",
    "# This will find the short years and replace with long years\n",
    "df['year'].replace(['16', '15'], ['2016', '2015'], inplace = True)\n",
    "\n",
    "#And now can create proper date column\n",
    "df['date'] = pd.to_datetime(pd.DataFrame({'year': df['year'],\n",
    "                                            'month': df['month'],\n",
    "                                            'day': df['day']}), format = '%Y-%m-%d')"
   ]
  },
  {
   "cell_type": "code",
   "execution_count": 76,
   "metadata": {},
   "outputs": [],
   "source": [
    "#now drop temporary date columns so I just have 'day of week', which is the only one likely to give additional information\n",
    "df.drop(['Interview_Date', 'year', 'month', 'day'], axis = 1, inplace = True)\n",
    "df['Day_of_Week'] = df.date.dt.dayofweek"
   ]
  },
  {
   "cell_type": "code",
   "execution_count": 77,
   "metadata": {
    "scrolled": false
   },
   "outputs": [
    {
     "name": "stdout",
     "output_type": "stream",
     "text": [
      "Client ['Hospira' 'Aon Hewitt' 'UST' 'Standard Chartered Bank' 'ANZ' 'Pfizer'\n",
      " 'Standard Chartered Bank Chennai' 'Aon hewitt Gurgaon' 'Astrazeneca'\n",
      " 'Flextronics' 'Prodapt' 'Williams Lea' 'Barclays' 'Hewitt' 'Woori Bank'\n",
      " '\\ufeff\\ufeff']\n",
      "----------------------------------------\n",
      "Industry ['Pharmaceuticals' 'IT Services' 'BFSI' 'IT Products and Services'\n",
      " 'Electronics' 'Telecom' 'IT' nan]\n",
      "----------------------------------------\n",
      "Location ['Chennai' 'Gurgaon' 'Bangalore' 'Hyderabad' 'Gurgaonr' 'Delhi' 'chennai'\n",
      " '- Cochin- ' 'Noida' 'CHENNAI' 'chennai ' nan]\n",
      "----------------------------------------\n",
      "Position ['Production- Sterile' 'Selenium testing' 'Dot Net' 'AML' 'Trade Finance'\n",
      " 'Routine' 'Niche' nan]\n",
      "----------------------------------------\n",
      "Skillset ['Routine' 'Oracle' 'Accounting Operations' 'Banking Operations' 'Fresher'\n",
      " 'AML/KYC/CDD' 'CDD KYC' 'Biosimiliars' 'RA Label' 'RA Publishing' 'EMEA'\n",
      " 'LCM -Manager' 'Licensing – RA' 'generic drugs – RA' 'Biosimilars'\n",
      " 'Regulatory' 'Analytical R & D' 'Analytical R&D'\n",
      " 'Senior software engineer-Mednet' 'Tech lead-Mednet' 'Tech Lead- Mednet'\n",
      " 'Technical Lead' 'Sr Automation Testing' 'TL' 'Senior Analyst'\n",
      " 'production' 'Production' 'Core Java' 'Java J2EE' 'Oracle Plsql'\n",
      " 'Java,SQL' 'Automation Testing Java' 'Submission Management'\n",
      " 'Biosimillar' 'Publishing' 'Global Labelling' 'ALS Testing'\n",
      " 'Java Developer' 'Lending and Liabilities' 'Lending & Liability'\n",
      " 'Lending And Liabilities' 'L & L' 'Banking operations'\n",
      " 'Lending&Liablities' 'JAVA/J2EE/Struts/Hibernate'\n",
      " 'JAVA/SPRING/HIBERNATE/JSF' 'Java' 'Java JSF' 'Java,J2ee, JSF'\n",
      " 'Java ,J2ee' 'Java J2ee' '11.30 AM' '10.00 AM' '9.00 Am' '12.30 Pm'\n",
      " '9.30 AM' '11.30 Am' 'Java, J2Ee' 'Java,J2EE' 'Java/J2ee/Core Java'\n",
      " 'Java/J2ee' 'JAVA, J2ee' 'JAVA,J2ee' 'T-24 developer' 'COTS Developer'\n",
      " 'Product Control' 'Dot Net' 'COTS' 'testing' '- SAPBO, Informatica' 'ETL'\n",
      " 'Java-SAS' 'Java Tech Lead' 'Manager' 'JAVA,SQL' 'Java, SQL' 'Hadoop'\n",
      " 'SCCM' 'SCCM-(Network, sharepoint,ms exchange)' 'SCCm- Desktop support'\n",
      " 'Sccm- networking' 'sccm' 'SCCM – SQL' 'SCCM – Sharepoint'\n",
      " 'Production Support - SCCM' 'SAS' 'BaseSAS Program/ Reporting'\n",
      " 'Java, Spring, Hibernate' 'Java,spring,hibernate'\n",
      " 'Java, XML, Struts, hibernate' 'JAVA/J2EE' 'Java ' nan]\n",
      "----------------------------------------\n",
      "Interview_Type ['Scheduled Walkin' 'Scheduled ' 'Walkin' 'Scheduled Walk In'\n",
      " 'Sceduled walkin' 'Walkin ' nan]\n",
      "----------------------------------------\n",
      "Cand_ID ['Candidate 1' 'Candidate 2' 'Candidate 3' ... 'Candidate 1232'\n",
      " 'Candidate 1233' nan]\n",
      "----------------------------------------\n",
      "Gender ['Male' 'Female' nan]\n",
      "----------------------------------------\n",
      "Candidate_Current_Location ['Chennai' 'Gurgaon' 'Bangalore' 'Hyderabad' 'Delhi' 'chennai'\n",
      " '- Cochin- ' 'Noida' 'CHENNAI' 'chennai ' nan]\n",
      "----------------------------------------\n",
      "Candidate_Job_Location ['Hosur' 'Bangalore' 'Chennai' 'Gurgaon' 'Visakapatinam' '- Cochin- '\n",
      " 'Noida' nan]\n",
      "----------------------------------------\n",
      "Interview_Venue ['Hosur' 'Gurgaon' 'Bangalore' 'Chennai' 'Hyderabad' '- Cochin- ' 'Noida'\n",
      " nan]\n",
      "----------------------------------------\n",
      "Candidate_Native_location ['Hosur' 'Trichy' 'Chennai' 'Gurgaon' 'Noida' 'Delhi /NCR' 'Cochin'\n",
      " 'Trivandrum' 'Bangalore' 'Coimbatore' 'Salem' 'Tanjore' 'Hyderabad'\n",
      " 'Mumbai' 'Pune' 'Kolkata' 'Allahabad' 'Panjim' 'Cuttack' 'Visakapatinam'\n",
      " 'Belgaum' 'Patna' 'Chitoor' 'Anantapur' 'Warangal' 'Ahmedabad' 'Kurnool'\n",
      " 'Vijayawada' 'Vellore' 'Pondicherry' 'Nagercoil' 'Agra' 'Bhubaneshwar'\n",
      " 'Ghaziabad' 'Baddi' 'Tuticorin' 'Tirupati' 'Faizabad' 'Ambur'\n",
      " 'Chandigarh' 'Mysore' 'Hissar' 'Delhi' 'Kanpur' 'Lucknow' '- Cochin- '\n",
      " nan]\n",
      "----------------------------------------\n",
      "Permission_acquired ['Yes' nan 'No' 'Not yet' 'Yet to confirm' 'NO' 'yes' 'Na']\n",
      "----------------------------------------\n",
      "No_unscheduled ['Yes' 'Na' 'No' nan 'yes' 'Not Sure' 'cant Say' 'Not sure']\n",
      "----------------------------------------\n",
      "Call_before_and_follow_up ['Yes' nan 'No' 'No Dont' 'Na' 'yes']\n",
      "----------------------------------------\n",
      "Extra_phone_number ['Yes' nan 'No' 'No I have only thi number' 'na' 'yes' 'Na']\n",
      "----------------------------------------\n",
      "Got_CV_and_read_JD ['Yes' nan 'No' 'No- will take it soon' 'Not yet' 'na' 'yes' 'Na'\n",
      " 'Not Yet']\n",
      "----------------------------------------\n",
      "Clear_on_venue ['Yes' nan 'No' 'No- I need to check' 'na' 'yes' 'Na' 'no']\n",
      "----------------------------------------\n",
      "Letter_shared ['Yes' nan 'Havent Checked' 'No' 'Need To Check' 'Not sure' 'Yet to Check'\n",
      " 'Not Sure' 'Not yet' 'no' 'na' 'yes' 'Na']\n",
      "----------------------------------------\n",
      "Expected_Attendance ['Yes' 'Uncertain' 'No' 'NO' 'yes' nan '11:00 AM' '10.30 Am']\n",
      "----------------------------------------\n",
      "Observed_Attendance ['No' 'Yes' 'yes' 'no' 'yes ' 'No ' 'NO' 'no ' nan]\n",
      "----------------------------------------\n",
      "Marital_Status ['Single' 'Married' nan]\n",
      "----------------------------------------\n",
      "date ['2015-02-13T00:00:00.000000000' '2015-06-19T00:00:00.000000000'\n",
      " '2015-06-23T00:00:00.000000000' '2015-06-29T00:00:00.000000000'\n",
      " '2015-06-25T00:00:00.000000000' '2016-05-25T00:00:00.000000000'\n",
      " '2016-12-04T00:00:00.000000000' '2016-04-13T00:00:00.000000000'\n",
      " '2016-02-27T00:00:00.000000000' '2016-05-07T00:00:00.000000000'\n",
      " '2016-05-05T00:00:00.000000000' '2016-05-04T00:00:00.000000000'\n",
      " '2016-04-21T00:00:00.000000000' '2016-04-22T00:00:00.000000000'\n",
      " '2016-04-23T00:00:00.000000000' '2016-04-15T00:00:00.000000000'\n",
      " '2016-04-19T00:00:00.000000000' '2016-04-20T00:00:00.000000000'\n",
      " '2016-04-25T00:00:00.000000000' '2016-04-18T00:00:00.000000000'\n",
      " '2016-05-11T00:00:00.000000000' '2016-05-10T00:00:00.000000000'\n",
      " '2016-04-12T00:00:00.000000000' '2017-04-12T00:00:00.000000000'\n",
      " '2018-04-12T00:00:00.000000000' '2019-04-12T00:00:00.000000000'\n",
      " '2020-04-12T00:00:00.000000000' '2021-04-12T00:00:00.000000000'\n",
      " '2022-04-12T00:00:00.000000000' '2023-04-12T00:00:00.000000000'\n",
      " '2016-05-08T00:00:00.000000000' '2016-03-19T00:00:00.000000000'\n",
      " '2016-05-24T00:00:00.000000000' '2016-11-05T00:00:00.000000000'\n",
      " '2016-05-26T00:00:00.000000000' '2016-08-28T00:00:00.000000000'\n",
      " '2016-06-13T00:00:00.000000000' '2016-09-02T00:00:00.000000000'\n",
      " '2015-12-02T00:00:00.000000000' '2016-02-23T00:00:00.000000000'\n",
      " '2016-03-22T00:00:00.000000000' '2016-02-26T00:00:00.000000000'\n",
      " '2016-02-06T00:00:00.000000000' '2015-04-21T00:00:00.000000000'\n",
      " '2016-01-22T00:00:00.000000000' '2016-06-03T00:00:00.000000000'\n",
      " '2016-01-09T00:00:00.000000000' '2015-04-03T00:00:00.000000000'\n",
      " '2015-03-13T00:00:00.000000000' '2015-03-17T00:00:00.000000000'\n",
      " '2014-03-18T00:00:00.000000000' '2015-04-04T00:00:00.000000000'\n",
      " '2015-04-16T00:00:00.000000000' '2015-04-17T00:00:00.000000000'\n",
      " '2015-04-09T00:00:00.000000000' '2015-02-05T00:00:00.000000000'\n",
      " '2016-05-30T00:00:00.000000000' '2016-06-07T00:00:00.000000000'\n",
      " '2016-08-20T00:00:00.000000000' '2016-01-14T00:00:00.000000000'\n",
      " '2016-01-30T00:00:00.000000000' '2016-05-06T00:00:00.000000000'\n",
      "                           'NaT']\n",
      "----------------------------------------\n",
      "Day_of_Week [ 4.  1.  0.  3.  2.  6.  5. nan]\n",
      "----------------------------------------\n"
     ]
    }
   ],
   "source": [
    "#review all columns to see unique values\n",
    "for column in df.columns:\n",
    "    print(column, df[column].unique())\n",
    "    print('-'*40)"
   ]
  },
  {
   "cell_type": "code",
   "execution_count": 78,
   "metadata": {},
   "outputs": [],
   "source": [
    "df.drop(['Skillset', 'Candidate_Native_location'], axis=1, inplace=True)"
   ]
  },
  {
   "cell_type": "markdown",
   "metadata": {},
   "source": [
    "Tidy up columns so that data is machine readable"
   ]
  },
  {
   "cell_type": "code",
   "execution_count": 79,
   "metadata": {},
   "outputs": [],
   "source": [
    "df.Client.replace(['Aon Hewitt', 'Hewitt', 'Aon hewitt Gurgaon'], 'Hewitt', inplace=True)\n",
    "df.Client.replace(['Standard Chartered Bank', 'Standard Chartered Bank Chennai'], \n",
    "                            'Standard Chartered', inplace=True)\n",
    "\n",
    "df.Industry.replace(['IT Services', 'IT Products and Services', 'IT'], \n",
    "                              'IT', inplace=True)\n",
    "\n",
    "df.Location.replace(['chennai', 'Chennai', 'chennai ', 'CHENNAI'], 'Chennai', inplace=True)\n",
    "df.Location.replace('- Cochin- ', 'Cochin', inplace=True)\n",
    "df.Location.replace('Gurgaonr', 'Gurgaon', inplace=True)\n",
    "\n",
    "df.Candidate_Current_Location.replace(['chennai', 'Chennai', 'chennai ', 'CHENNAI'], 'Chennai', inplace=True)\n",
    "df.Candidate_Current_Location.replace('- Cochin- ', 'Cochin', inplace=True)\n",
    "\n",
    "df.Candidate_Job_Location.replace('- Cochin- ', 'Cochin', inplace=True)\n",
    "\n",
    "df.Interview_Venue.replace('- Cochin- ', 'Cochin', inplace=True)\n",
    "\n",
    "df.Expected_Attendance.replace(['Yes', '10.30 Am', '11:00 AM','yes'], 'yes', inplace=True)\n",
    "df.Expected_Attendance.replace(['No', 'NO','no'], 'no', inplace=True)\n",
    "\n",
    "df.Observed_Attendance.replace(['Yes', 'yes ','yes'], 1, inplace=True)\n",
    "df.Observed_Attendance.replace(['No', 'NO', 'No ', 'no ','no'], 0, inplace=True)\n",
    "\n",
    "df.Got_CV_and_read_JD.replace(['Yes', 'yes'],1, inplace=True)\n",
    "df.Got_CV_and_read_JD.replace(['No','no', 'Not yet', 'na', 'Na', 'Not Yet', \n",
    "                                      'No- will take it soon'], 0,inplace=True)\n",
    "\n",
    "df.Permission_acquired.replace(['Yes', 'yes'], 1, inplace=True)\n",
    "df.Permission_acquired.replace(['No', 'Not yet', 'NO', 'Na', 'Yet to confirm','no'] ,0, inplace=True)\n",
    "\n",
    "df.Clear_on_venue.replace(['Yes', 'yes'], 1, inplace=True)\n",
    "df.Clear_on_venue.replace(['No', 'na', 'no', 'Na', 'No- I need to check'] ,0, inplace=True)\n",
    "\n",
    "df.Interview_Type.replace(['Scheduled Walk In', 'Scheduled ', 'Scheduled Walk In', 'Sceduled walkin'],\n",
    "                                    'Scheduled', inplace=True)\n",
    "df.Interview_Type.replace(['Walkin '], 'Walkin', inplace=True)\n",
    "\n",
    "df.No_unscheduled.replace(['Yes', 'yes'], 1, inplace=True)\n",
    "df.No_unscheduled.replace(['Na', 'No', 'Not Sure', 'cant Say', 'Not sure','no'] ,0, inplace=True)\n",
    "\n",
    "df.Call_before_and_follow_up.replace(['No', 'No Dont', 'Na','no'], 0, inplace=True)\n",
    "df.Call_before_and_follow_up.replace(['Yes', 'yes'], 1, inplace=True)\n",
    "\n",
    "df.Letter_shared.replace(['Yes', 'yes'], 1, inplace=True)\n",
    "df.Letter_shared.replace(['Havent Checked', 'No', 'Need To Check', 'Not sure', \n",
    "                                   'Yet to Check','Not Sure', 'Not yet', 'no', 'na', 'Na'], 0, inplace=True)\n",
    "\n",
    "df.Extra_phone_number.replace(['Yes', 'yes'], 1, inplace=True)\n",
    "df.Extra_phone_number.replace(['No','No I have only thi number','na','Na','no'], 0, inplace=True)"
   ]
  },
  {
   "cell_type": "markdown",
   "metadata": {},
   "source": [
    "Check for nulls. There are a significant number of candidates who have missing data. So now we need to work out how to fill the missing data"
   ]
  },
  {
   "cell_type": "code",
   "execution_count": 80,
   "metadata": {
    "scrolled": true
   },
   "outputs": [
    {
     "data": {
      "text/plain": [
       "Client                          0\n",
       "Industry                        0\n",
       "Location                        0\n",
       "Position                        0\n",
       "Interview_Type                  0\n",
       "Cand_ID                         0\n",
       "Gender                          0\n",
       "Candidate_Current_Location      0\n",
       "Candidate_Job_Location          0\n",
       "Interview_Venue                 0\n",
       "Permission_acquired           204\n",
       "No_unscheduled                247\n",
       "Call_before_and_follow_up     247\n",
       "Extra_phone_number            247\n",
       "Got_CV_and_read_JD            248\n",
       "Clear_on_venue                248\n",
       "Letter_shared                 245\n",
       "Expected_Attendance             5\n",
       "Observed_Attendance             0\n",
       "Marital_Status                  0\n",
       "date                            0\n",
       "Day_of_Week                     0\n",
       "dtype: int64"
      ]
     },
     "execution_count": 80,
     "metadata": {},
     "output_type": "execute_result"
    }
   ],
   "source": [
    "#drop last row of nans\n",
    "df.drop(1233, inplace=True)\n",
    "df.isnull().sum()"
   ]
  },
  {
   "cell_type": "markdown",
   "metadata": {},
   "source": [
    "For the rest of the nulls, we have two options:\n",
    "\n",
    "1. Add them to either the yes or the no categories, depending on current distribution\n",
    "2. Create a third category for 'no info'. This would then retain the fact that they have missing data\n",
    "\n",
    "In reality, missing data is common, and it doesn't necessarily indicate that they will attend an interview or not. We will choose option 2 and retain the data by replacing the null value with -1.  "
   ]
  },
  {
   "cell_type": "code",
   "execution_count": 81,
   "metadata": {},
   "outputs": [],
   "source": [
    "df.fillna(-1,inplace=True)\n",
    "\n",
    "#Drop the 5 instances where 'expected attendance' is not available. These 5 samples don't provide much information as they are also missing all the other survey information.\n",
    "df.drop(df[df.Expected_Attendance == -1 ].index , inplace=True)"
   ]
  },
  {
   "cell_type": "markdown",
   "metadata": {},
   "source": [
    "I have also left 'expected attendance' with three categories: 'yes', 'no' and 'Uncertain'. This is likely to be an important feature, and so this piece of information about being uncertain, is retained. \n",
    "\n",
    "Now let's have a look at the dependent variable, 'Observed_Attendance'."
   ]
  },
  {
   "cell_type": "code",
   "execution_count": 82,
   "metadata": {},
   "outputs": [
    {
     "data": {
      "text/plain": [
       "1.0    780\n",
       "0.0    448\n",
       "Name: Observed_Attendance, dtype: int64"
      ]
     },
     "execution_count": 82,
     "metadata": {},
     "output_type": "execute_result"
    }
   ],
   "source": [
    "df['Observed_Attendance'].value_counts()"
   ]
  },
  {
   "cell_type": "markdown",
   "metadata": {},
   "source": [
    "This is a fairly well balanced dataset between interviewees that attended and didn't. "
   ]
  },
  {
   "cell_type": "markdown",
   "metadata": {},
   "source": [
    "<a id='Data_Exp'></a>"
   ]
  },
  {
   "cell_type": "markdown",
   "metadata": {},
   "source": [
    "## Data Exploration "
   ]
  },
  {
   "cell_type": "code",
   "execution_count": 83,
   "metadata": {},
   "outputs": [],
   "source": [
    "import matplotlib.pyplot as plt\n",
    "%matplotlib inline\n",
    "import seaborn as sns"
   ]
  },
  {
   "cell_type": "markdown",
   "metadata": {},
   "source": [
    "Candidates that expect to attend are more likely to attend (of course)! \n",
    "\n",
    "In fact we can see the accuracy below when just using 'expected attendance' as a classifier."
   ]
  },
  {
   "cell_type": "code",
   "execution_count": 84,
   "metadata": {},
   "outputs": [
    {
     "data": {
      "image/png": "[encoded data removed]",
      "text/plain": [
       "<Figure size 720x360 with 1 Axes>"
      ]
     },
     "metadata": {},
     "output_type": "display_data"
    }
   ],
   "source": [
    "plt.figure(figsize=(10,5))\n",
    "sns.countplot(x=df.Expected_Attendance, hue = df.Observed_Attendance);\n",
    "plt.title('Expected attendance and Observed Attendance');"
   ]
  },
  {
   "cell_type": "code",
   "execution_count": 85,
   "metadata": {},
   "outputs": [
    {
     "name": "stdout",
     "output_type": "stream",
     "text": [
      "Accuracy using only expected attendance as a feature: 0.6074918566775245\n"
     ]
    }
   ],
   "source": [
    "#testing 'expected attendance as a single variable classifier'\n",
    "tp, tn, fp, fn = 0, 0, 0, 0\n",
    "\n",
    "for obs, exp in list(zip(df.Observed_Attendance,df.Expected_Attendance)):\n",
    "    if obs == 0:\n",
    "        if exp == 'no':\n",
    "            tn+=1\n",
    "        else:\n",
    "            fp+=1\n",
    "    else:\n",
    "        if exp == 'yes':\n",
    "            tp+=1\n",
    "        else:\n",
    "            fn+=1\n",
    "\n",
    "accuracy = (tp + tn) / (tp+tn+fp+fn)\n",
    "print('Accuracy using only expected attendance as a feature: {}'.format(accuracy))\n",
    "    "
   ]
  },
  {
   "cell_type": "code",
   "execution_count": 86,
   "metadata": {},
   "outputs": [],
   "source": [
    "# Create dependent and independent sets\n",
    "y = df.Observed_Attendance\n",
    "#drop candidate ID too which is unique for each candidate and so provides no extra information\n",
    "X = df.drop(['Observed_Attendance','Cand_ID'], axis =1)\n"
   ]
  },
  {
   "cell_type": "markdown",
   "metadata": {},
   "source": [
    "We can encode each categorical variable (give each category a number) here. We don't need to one-hot encode yet, as this depends on the algorithm. We also do not need to scale data for decision trees, so we will not do so now."
   ]
  },
  {
   "cell_type": "code",
   "execution_count": 87,
   "metadata": {},
   "outputs": [],
   "source": [
    "from sklearn.preprocessing import LabelEncoder\n",
    "le = LabelEncoder()\n",
    "for i in range(X.shape[1]): \n",
    "    X[X.columns[i]] = le.fit_transform(X[X.columns[i]])\n"
   ]
  },
  {
   "cell_type": "markdown",
   "metadata": {},
   "source": [
    "<a id='Classification'></a>"
   ]
  },
  {
   "cell_type": "markdown",
   "metadata": {},
   "source": [
    "   ## Classification"
   ]
  },
  {
   "cell_type": "markdown",
   "metadata": {},
   "source": [
    "<a id='DT'></a>"
   ]
  },
  {
   "cell_type": "markdown",
   "metadata": {},
   "source": [
    "### Decision Tree"
   ]
  },
  {
   "cell_type": "code",
   "execution_count": 88,
   "metadata": {},
   "outputs": [
    {
     "name": "stdout",
     "output_type": "stream",
     "text": [
      "Mean Accuracy of Tree: 0.6636551573339694\n"
     ]
    }
   ],
   "source": [
    "from sklearn.model_selection import train_test_split, cross_val_score, GridSearchCV\n",
    "from sklearn.tree import DecisionTreeClassifier\n",
    "from sklearn.ensemble import RandomForestClassifier\n",
    "from sklearn.metrics import accuracy_score, roc_curve, auc\n",
    "from sklearn.preprocessing import LabelEncoder\n",
    "import numpy as np \n",
    "\n",
    "\n",
    "clf = DecisionTreeClassifier()\n",
    "dt_cv_score = cross_val_score(clf,X = X,y = y,cv=3,scoring='accuracy')\n",
    "mean_dt_cv_score = dt_cv_score.mean()\n",
    "print ('Mean Accuracy of Tree: {}'.format(mean_dt_cv_score))"
   ]
  },
  {
   "cell_type": "markdown",
   "metadata": {},
   "source": [
    "This is worse that just using expected attendance as a feature. But we need to tune the parameters. "
   ]
  },
  {
   "cell_type": "markdown",
   "metadata": {},
   "source": [
    "#### Hyperparameter tuning"
   ]
  },
  {
   "cell_type": "markdown",
   "metadata": {},
   "source": [
    "Using gridsearch, we will find the best possible decision tree classifier."
   ]
  },
  {
   "cell_type": "code",
   "execution_count": 89,
   "metadata": {},
   "outputs": [],
   "source": [
    "dt_param_grid = {\n",
    "    'criterion': ['gini','entropy'],\n",
    "    'max_depth': [4,5,6,7,8,9],\n",
    "    'min_samples_split': [2,5,10],\n",
    "    'min_samples_leaf': [1,2,3,4,5,6]\n",
    "}"
   ]
  },
  {
   "cell_type": "code",
   "execution_count": 90,
   "metadata": {
    "scrolled": true
   },
   "outputs": [],
   "source": [
    "dt_grid_search = GridSearchCV(clf,param_grid=dt_param_grid,cv=3,scoring='accuracy');\n",
    "dt_grid_search.fit(X, y);"
   ]
  },
  {
   "cell_type": "code",
   "execution_count": 91,
   "metadata": {},
   "outputs": [
    {
     "name": "stdout",
     "output_type": "stream",
     "text": [
      "Mean Testing Score: 74.51%\n",
      "Best Parameter Combination Found During Grid Search:\n"
     ]
    },
    {
     "data": {
      "text/plain": [
       "{'criterion': 'gini',\n",
       " 'max_depth': 7,\n",
       " 'min_samples_leaf': 5,\n",
       " 'min_samples_split': 5}"
      ]
     },
     "execution_count": 91,
     "metadata": {},
     "output_type": "execute_result"
    }
   ],
   "source": [
    "dt_gs_testing_score = dt_grid_search.score(X, y)\n",
    "\n",
    "print(\"Mean Testing Score: {:.4}%\".format(dt_gs_testing_score * 100))\n",
    "print(\"Best Parameter Combination Found During Grid Search:\")\n",
    "dt_grid_search.best_params_"
   ]
  },
  {
   "cell_type": "markdown",
   "metadata": {},
   "source": [
    "We have added 11% to our accuracy using parameter search.  \n",
    "\n",
    "Can we remove any features at this stage, before we one-hot encode for other algorithms (and thereby drastically increase the number of dimensions). "
   ]
  },
  {
   "cell_type": "code",
   "execution_count": 92,
   "metadata": {
    "scrolled": true
   },
   "outputs": [
    {
     "name": "stderr",
     "output_type": "stream",
     "text": [
      "/anaconda3/lib/python3.6/site-packages/scipy/stats/stats.py:245: RuntimeWarning: The input array could not be properly checked for nan values. nan values will be ignored.\n",
      "  \"values. nan values will be ignored.\", RuntimeWarning)\n"
     ]
    },
    {
     "data": {
      "image/png": "[encoded data removed]",
      "text/plain": [
       "<Figure size 432x288 with 1 Axes>"
      ]
     },
     "metadata": {},
     "output_type": "display_data"
    }
   ],
   "source": [
    "from scipy.cluster import hierarchy as hc\n",
    "from scipy.stats import spearmanr\n",
    "\n",
    "corr = np.round(spearmanr(df).correlation,4)\n",
    "corr_condensed = hc.distance.squareform(1-corr)\n",
    "z = hc.linkage(corr_condensed, method = 'average')\n",
    "fig = plt.figure(figsize=(6,4))\n",
    "dendrogram = hc.dendrogram(z, labels = df.columns, orientation='left',\n",
    "                          leaf_font_size =8)\n",
    "plt.show()\n"
   ]
  },
  {
   "cell_type": "markdown",
   "metadata": {},
   "source": [
    "Candidate current location and Location seem to be highly correlated. We will assess performance of the decision tree again, after removing Location. "
   ]
  },
  {
   "cell_type": "code",
   "execution_count": 93,
   "metadata": {
    "scrolled": true
   },
   "outputs": [
    {
     "name": "stdout",
     "output_type": "stream",
     "text": [
      "Mean Accuracy of Tree with Location information: 0.691361043194784\n",
      "Mean Accuracy of Tree without Location information: 0.6954300594350687\n"
     ]
    }
   ],
   "source": [
    "#With Location\n",
    "clf = DecisionTreeClassifier(criterion =  'gini',\n",
    "                             max_depth =  7,\n",
    "                             min_samples_leaf = 4,\n",
    "                             min_samples_split = 10)\n",
    "dt_cv_score = cross_val_score(clf,X = X,y = y,cv=3,scoring='accuracy')\n",
    "mean_dt_cv_score = dt_cv_score.mean()\n",
    "print ('Mean Accuracy of Tree with Location information: {}'.format(mean_dt_cv_score))\n",
    "\n",
    "#Without Location\n",
    "clf = DecisionTreeClassifier(criterion =  'gini',\n",
    "                             max_depth =  7,\n",
    "                             min_samples_leaf = 4,\n",
    "                             min_samples_split = 10)\n",
    "dt_cv_score = cross_val_score(clf,X = X.drop('Location',axis=1),y = y,cv=3,scoring='accuracy')\n",
    "mean_dt_cv_score = dt_cv_score.mean()\n",
    "print ('Mean Accuracy of Tree without Location information: {}'.format(mean_dt_cv_score))"
   ]
  },
  {
   "cell_type": "markdown",
   "metadata": {},
   "source": [
    "The accuracy varies each time this process is run, as we are randomly splitting train and test data. But it looks as though there is little impact on performance, so we will drop the Location feature for now. "
   ]
  },
  {
   "cell_type": "code",
   "execution_count": 94,
   "metadata": {},
   "outputs": [],
   "source": [
    "X.drop('Location',axis=1,inplace=True)"
   ]
  },
  {
   "cell_type": "markdown",
   "metadata": {},
   "source": [
    "<a id='RF'></a>"
   ]
  },
  {
   "cell_type": "markdown",
   "metadata": {},
   "source": [
    "### Random Forest"
   ]
  },
  {
   "cell_type": "markdown",
   "metadata": {},
   "source": [
    "The accuracy for a vanilla Random Forest Classifier is only as high as our previous model. We will need to perform a parameter search here."
   ]
  },
  {
   "cell_type": "code",
   "execution_count": 95,
   "metadata": {},
   "outputs": [
    {
     "name": "stdout",
     "output_type": "stream",
     "text": [
      "Mean Cross Validation Score for Random Forest Classifier: 70.28%\n"
     ]
    }
   ],
   "source": [
    "rf_clf = RandomForestClassifier()\n",
    "mean_rf_cv_score = cross_val_score(rf_clf,X = X,y=y,cv=3).mean()\n",
    "print(\"Mean Cross Validation Score for Random Forest Classifier: {:.4}%\".format(mean_rf_cv_score * 100))"
   ]
  },
  {
   "cell_type": "code",
   "execution_count": 96,
   "metadata": {},
   "outputs": [],
   "source": [
    "rf_param_grid = {\n",
    "    'n_estimators' : [10,30,100],\n",
    "    'criterion' : ['gini','entropy'],\n",
    "    'max_depth' : [1,3,6,9,20],\n",
    "    'min_samples_split' : [2,4,8],\n",
    "    'min_samples_leaf' : [1,2,3,5]\n",
    "}"
   ]
  },
  {
   "cell_type": "code",
   "execution_count": 97,
   "metadata": {},
   "outputs": [
    {
     "name": "stdout",
     "output_type": "stream",
     "text": [
      "Testing Accuracy: 71.25%\n",
      "Total Runtime for Grid Search on Random Forest Classifier: 158.3 seconds\n",
      "\n",
      "Optimal Parameters: {'criterion': 'entropy', 'max_depth': 3, 'min_samples_leaf': 3, 'min_samples_split': 4, 'n_estimators': 10}\n"
     ]
    }
   ],
   "source": [
    "import time\n",
    "start = time.time()\n",
    "rf_grid_search = GridSearchCV(rf_clf,param_grid=rf_param_grid,cv=5)\n",
    "rf_grid_search.fit(X, y)\n",
    "\n",
    "print(\"Testing Accuracy: {:.4}%\".format(rf_grid_search.best_score_ * 100))\n",
    "print(\"Total Runtime for Grid Search on Random Forest Classifier: {:.4} seconds\".format(time.time() - start))\n",
    "print(\"\")\n",
    "print(\"Optimal Parameters: {}\".format(rf_grid_search.best_params_))"
   ]
  },
  {
   "cell_type": "markdown",
   "metadata": {},
   "source": [
    "<a id='XG'></a>"
   ]
  },
  {
   "cell_type": "markdown",
   "metadata": {},
   "source": [
    "### XGBoost"
   ]
  },
  {
   "cell_type": "markdown",
   "metadata": {},
   "source": [
    "Let's try XGBoost too. It's time consuming, but may provide higher accuracy still."
   ]
  },
  {
   "cell_type": "code",
   "execution_count": 98,
   "metadata": {},
   "outputs": [],
   "source": [
    "import xgboost as xgb"
   ]
  },
  {
   "cell_type": "code",
   "execution_count": 99,
   "metadata": {},
   "outputs": [
    {
     "name": "stderr",
     "output_type": "stream",
     "text": [
      "/anaconda3/lib/python3.6/site-packages/sklearn/preprocessing/label.py:151: DeprecationWarning: The truth value of an empty array is ambiguous. Returning False, but in future this will result in an error. Use `array.size > 0` to check that an array is not empty.\n",
      "  if diff:\n",
      "/anaconda3/lib/python3.6/site-packages/sklearn/preprocessing/label.py:151: DeprecationWarning: The truth value of an empty array is ambiguous. Returning False, but in future this will result in an error. Use `array.size > 0` to check that an array is not empty.\n",
      "  if diff:\n"
     ]
    },
    {
     "name": "stdout",
     "output_type": "stream",
     "text": [
      "Accuracy: 71.82%\n"
     ]
    },
    {
     "name": "stderr",
     "output_type": "stream",
     "text": [
      "/anaconda3/lib/python3.6/site-packages/sklearn/preprocessing/label.py:151: DeprecationWarning: The truth value of an empty array is ambiguous. Returning False, but in future this will result in an error. Use `array.size > 0` to check that an array is not empty.\n",
      "  if diff:\n"
     ]
    }
   ],
   "source": [
    "X_train,X_test, y_train, y_test = train_test_split(X,y,test_size=0.25)\n",
    "\n",
    "\n",
    "clf = xgb.XGBClassifier()\n",
    "mean_xg_cv_score = cross_val_score(clf,X = X,y=y,cv=3).mean()\n",
    "\n",
    "\n",
    "print(\"Accuracy: {:.4}%\".format(mean_xg_cv_score * 100))"
   ]
  },
  {
   "cell_type": "code",
   "execution_count": 100,
   "metadata": {},
   "outputs": [],
   "source": [
    "param_grid = {\n",
    "    \"learning_rate\": [0.01,0.1,1],\n",
    "    'max_depth': [2,3,4,5,6],\n",
    "    'min_child_weight': [0.5,1,3],\n",
    "    'subsample': [0.5,0.8],\n",
    "    'n_estimators': [10,100],\n",
    "}"
   ]
  },
  {
   "cell_type": "code",
   "execution_count": 101,
   "metadata": {
    "scrolled": true
   },
   "outputs": [
    {
     "name": "stdout",
     "output_type": "stream",
     "text": [
      "Grid Search found the following optimal parameters: \n",
      "learning_rate: 0.1\n",
      "max_depth: 4\n",
      "min_child_weight: 0.5\n",
      "n_estimators: 100\n",
      "subsample: 0.8\n",
      "\n",
      "Accuracy: 75.9%\n"
     ]
    }
   ],
   "source": [
    "import warnings\n",
    "warnings.filterwarnings(\"ignore\")\n",
    "\n",
    "grid_clf = GridSearchCV(estimator = clf,cv=3,param_grid=param_grid,scoring='accuracy',n_jobs=1)\n",
    "grid_clf.fit(X, y)\n",
    "\n",
    "best_parameters = grid_clf.best_params_\n",
    "\n",
    "print(\"Grid Search found the following optimal parameters: \")\n",
    "for param_name in sorted(best_parameters.keys()):\n",
    "    print(\"%s: %r\" % (param_name, best_parameters[param_name]))\n",
    "\n",
    "val_preds = grid_clf.predict(X)\n",
    "val_accuracy = accuracy_score(val_preds,y)\n",
    "\n",
    "print(\"\")\n",
    "print(\"Accuracy: {:.4}%\".format(val_accuracy * 100))\n"
   ]
  },
  {
   "cell_type": "markdown",
   "metadata": {},
   "source": [
    "<a id='KNN'></a>"
   ]
  },
  {
   "cell_type": "markdown",
   "metadata": {},
   "source": [
    "### K Nearest Neighbours Classification"
   ]
  },
  {
   "cell_type": "markdown",
   "metadata": {},
   "source": [
    "Next, let's try KNN. This is a distance-based classifier, so we will need to scale all features."
   ]
  },
  {
   "cell_type": "code",
   "execution_count": 102,
   "metadata": {
    "scrolled": true
   },
   "outputs": [],
   "source": [
    "from sklearn.preprocessing import LabelEncoder, StandardScaler\n",
    "\n",
    "y = df.Observed_Attendance\n",
    "X = df.drop('Observed_Attendance', axis =1)\n",
    "X.drop('Location',axis=1,inplace=True)\n",
    "X.drop(['date','Cand_ID'], axis = 1, inplace = True)\n",
    "\n",
    "le = LabelEncoder()\n",
    "for i in range(X.shape[1]): \n",
    "    X[X.columns[i]] = le.fit_transform(X[X.columns[i]])\n",
    "    \n",
    "#We need to scale all features as KNN relies on distance. \n",
    "\n",
    "scaler = StandardScaler()\n",
    "X = scaler.fit_transform(X)"
   ]
  },
  {
   "cell_type": "code",
   "execution_count": 103,
   "metadata": {},
   "outputs": [
    {
     "name": "stdout",
     "output_type": "stream",
     "text": [
      "Mean Accuracy of Vanilla KNN: 0.6750869660285845\n"
     ]
    }
   ],
   "source": [
    "from sklearn.neighbors import KNeighborsClassifier\n",
    "\n",
    "clf_knn = KNeighborsClassifier()\n",
    "KNN_cv_score = cross_val_score(clf_knn,X = X,y = y,cv=3,scoring='accuracy')\n",
    "mean_KNN_cv_score = KNN_cv_score.mean()\n",
    "print ('Mean Accuracy of Vanilla KNN: {}'.format(mean_KNN_cv_score))"
   ]
  },
  {
   "cell_type": "code",
   "execution_count": 104,
   "metadata": {},
   "outputs": [],
   "source": [
    "param_grid_knn = {\n",
    "    \"n_neighbors\": [3,5,7,9],\n",
    "    'weights': ['uniform','distance'],\n",
    "    'p': [2,3,4], #Minkowski distance\n",
    "}"
   ]
  },
  {
   "cell_type": "code",
   "execution_count": 105,
   "metadata": {},
   "outputs": [
    {
     "name": "stdout",
     "output_type": "stream",
     "text": [
      "Testing Accuracy: 68.08%\n",
      "Total Runtime for Grid Search on KNN Classifier: 10.43 seconds\n",
      "\n",
      "Optimal Parameters: {'n_neighbors': 9, 'p': 2, 'weights': 'uniform'}\n"
     ]
    }
   ],
   "source": [
    "start = time.time()\n",
    "knn_grid_search = GridSearchCV(clf_knn,param_grid=param_grid_knn,cv=3)\n",
    "knn_grid_search.fit(X, y)\n",
    "\n",
    "print(\"Testing Accuracy: {:.4}%\".format(knn_grid_search.best_score_ * 100))\n",
    "print(\"Total Runtime for Grid Search on KNN Classifier: {:.4} seconds\".format(time.time() - start))\n",
    "print(\"\")\n",
    "print(\"Optimal Parameters: {}\".format(knn_grid_search.best_params_))"
   ]
  },
  {
   "cell_type": "code",
   "execution_count": 106,
   "metadata": {},
   "outputs": [
    {
     "data": {
      "text/plain": [
       "(1228, 18)"
      ]
     },
     "execution_count": 106,
     "metadata": {},
     "output_type": "execute_result"
    }
   ],
   "source": [
    "X.shape"
   ]
  },
  {
   "cell_type": "markdown",
   "metadata": {},
   "source": [
    "Given we have 18 columns of data, let's try with PCA. We currently have a sparse feature space, so PCA may help. "
   ]
  },
  {
   "cell_type": "code",
   "execution_count": 107,
   "metadata": {},
   "outputs": [
    {
     "name": "stdout",
     "output_type": "stream",
     "text": [
      "[0.42522438 0.61530678 0.69859425 0.76726618 0.82328214 0.87491612\n",
      " 0.91617727 0.94374954 0.96534149 0.97631513 0.98701864 0.99125791\n",
      " 0.99457255 0.99634888 0.99751353 0.99843853 0.99931238 1.        ]\n"
     ]
    },
    {
     "data": {
      "image/png": "[encoded data removed]",
      "text/plain": [
       "<Figure size 432x288 with 1 Axes>"
      ]
     },
     "metadata": {},
     "output_type": "display_data"
    }
   ],
   "source": [
    "from sklearn.decomposition import PCA\n",
    "\n",
    "pca = PCA()\n",
    "pca.fit(X)\n",
    "ratio = pca.explained_variance_ratio_.cumsum()\n",
    "plt.plot(range(1,len(ratio)+1),ratio);\n",
    "plt.title('Cumulative Explained Variance Ratio')\n",
    "plt.xlabel('No. of Principal Components')\n",
    "print(ratio)"
   ]
  },
  {
   "cell_type": "code",
   "execution_count": 108,
   "metadata": {},
   "outputs": [],
   "source": [
    "#So let's go with 12 components, in which we capture 99% of the variance\n",
    "pca = PCA(n_components=12)\n",
    "pca.fit(X)\n",
    "X_pca11 = pca.transform(X)"
   ]
  },
  {
   "cell_type": "code",
   "execution_count": 109,
   "metadata": {},
   "outputs": [
    {
     "name": "stdout",
     "output_type": "stream",
     "text": [
      "Mean Accuracy of Optimised KNN with 11 Principal Components: 0.6783429741387877\n"
     ]
    }
   ],
   "source": [
    "clf_knn = KNeighborsClassifier(weights='uniform',n_neighbors=9,p=2)\n",
    "KNN_cv_score = cross_val_score(clf_knn,X = X_pca11,y = y,cv=3,scoring='accuracy')\n",
    "mean_KNN_cv_score = KNN_cv_score.mean()\n",
    "print ('Mean Accuracy of Optimised KNN with 11 Principal Components: {}'.format(mean_KNN_cv_score))"
   ]
  },
  {
   "cell_type": "markdown",
   "metadata": {},
   "source": [
    "So PCA doesn't help in this case. "
   ]
  },
  {
   "cell_type": "markdown",
   "metadata": {},
   "source": [
    "<a id='NB'></a>"
   ]
  },
  {
   "cell_type": "markdown",
   "metadata": {},
   "source": [
    "### Naive Bayes Classification"
   ]
  },
  {
   "cell_type": "markdown",
   "metadata": {},
   "source": [
    "For Naive Bayes, we could use a multinomial classifier, but this doesn't support negative values. So we will one hot encode all values and use a binomial classifier. "
   ]
  },
  {
   "cell_type": "code",
   "execution_count": 110,
   "metadata": {},
   "outputs": [
    {
     "data": {
      "text/plain": [
       "(1228, 83)"
      ]
     },
     "execution_count": 110,
     "metadata": {},
     "output_type": "execute_result"
    }
   ],
   "source": [
    "from sklearn.naive_bayes import BernoulliNB\n",
    "\n",
    "y = df.Observed_Attendance\n",
    "X = df.drop('Observed_Attendance', axis =1)\n",
    "X.drop('Location',axis=1,inplace=True)\n",
    "X.drop(['date','Cand_ID'], axis = 1, inplace = True)\n",
    "\n",
    "#We will one hot encode for the SVM, as 'order' does not make sense for our indpendent variables\n",
    "cols = X.columns\n",
    "X[['Permission_acquired',\n",
    "   'No_unscheduled', \n",
    "   'Call_before_and_follow_up', \n",
    "   'Extra_phone_number', \n",
    "   'Got_CV_and_read_JD',\n",
    "   'Clear_on_venue',\n",
    "   'Letter_shared','Day_of_Week']] = X[['Permission_acquired',\n",
    "   'No_unscheduled', \n",
    "   'Call_before_and_follow_up', \n",
    "   'Extra_phone_number', \n",
    "   'Got_CV_and_read_JD',\n",
    "   'Clear_on_venue',\n",
    "   'Letter_shared', 'Day_of_Week']].astype('object')\n",
    "X = pd.get_dummies(X[cols])\n",
    "X.shape"
   ]
  },
  {
   "cell_type": "code",
   "execution_count": 111,
   "metadata": {},
   "outputs": [
    {
     "name": "stdout",
     "output_type": "stream",
     "text": [
      "Mean Accuracy of Vanilla Bernoulli Naive Bayes: 0.7092671000059635\n"
     ]
    }
   ],
   "source": [
    "clf_NB = BernoulliNB()\n",
    "NB_cv_score = cross_val_score(clf_NB,X = X,y = y,cv=3,scoring='accuracy')\n",
    "mean_NB_cv_score = NB_cv_score.mean()\n",
    "print ('Mean Accuracy of Vanilla Bernoulli Naive Bayes: {}'.format(mean_NB_cv_score))"
   ]
  },
  {
   "cell_type": "markdown",
   "metadata": {},
   "source": [
    "Accuracy rate of 71% with no optimisation."
   ]
  },
  {
   "cell_type": "code",
   "execution_count": 112,
   "metadata": {},
   "outputs": [],
   "source": [
    "param_grid_NB = {\n",
    "    \"alpha\": [1e-10,0.5,1.0],\n",
    "    'fit_prior': ['True','False']\n",
    "}"
   ]
  },
  {
   "cell_type": "code",
   "execution_count": 113,
   "metadata": {},
   "outputs": [
    {
     "name": "stdout",
     "output_type": "stream",
     "text": [
      "Testing Accuracy: 70.93%\n",
      "Total Runtime for Grid Search on KNN Classifier: 0.116 seconds\n",
      "\n",
      "Optimal Parameters: {'alpha': 0.5, 'fit_prior': 'True'}\n"
     ]
    }
   ],
   "source": [
    "import time\n",
    "start = time.time()\n",
    "NB_grid_search = GridSearchCV(clf_NB,param_grid=param_grid_NB,cv=3)\n",
    "NB_grid_search.fit(X, y)\n",
    "\n",
    "print(\"Testing Accuracy: {:.4}%\".format(NB_grid_search.best_score_ * 100))\n",
    "print(\"Total Runtime for Grid Search on KNN Classifier: {:.4} seconds\".format(time.time() - start))\n",
    "print(\"\")\n",
    "print(\"Optimal Parameters: {}\".format(NB_grid_search.best_params_))"
   ]
  },
  {
   "cell_type": "markdown",
   "metadata": {},
   "source": [
    "<a id='SVM'></a>"
   ]
  },
  {
   "cell_type": "markdown",
   "metadata": {},
   "source": [
    "### Support Vector Machine Classification"
   ]
  },
  {
   "cell_type": "code",
   "execution_count": 114,
   "metadata": {},
   "outputs": [
    {
     "data": {
      "text/html": [
       "<div>\n",
       "<style scoped>\n",
       "    .dataframe tbody tr th:only-of-type {\n",
       "        vertical-align: middle;\n",
       "    }\n",
       "\n",
       "    .dataframe tbody tr th {\n",
       "        vertical-align: top;\n",
       "    }\n",
       "\n",
       "    .dataframe thead th {\n",
       "        text-align: right;\n",
       "    }\n",
       "</style>\n",
       "<table border=\"1\" class=\"dataframe\">\n",
       "  <thead>\n",
       "    <tr style=\"text-align: right;\">\n",
       "      <th></th>\n",
       "      <th>Permission_acquired</th>\n",
       "      <th>No_unscheduled</th>\n",
       "      <th>Call_before_and_follow_up</th>\n",
       "      <th>Extra_phone_number</th>\n",
       "      <th>Got_CV_and_read_JD</th>\n",
       "      <th>Clear_on_venue</th>\n",
       "      <th>Letter_shared</th>\n",
       "      <th>Day_of_Week</th>\n",
       "      <th>Client_ANZ</th>\n",
       "      <th>Client_Astrazeneca</th>\n",
       "      <th>...</th>\n",
       "      <th>Interview_Venue_Cochin</th>\n",
       "      <th>Interview_Venue_Gurgaon</th>\n",
       "      <th>Interview_Venue_Hosur</th>\n",
       "      <th>Interview_Venue_Hyderabad</th>\n",
       "      <th>Interview_Venue_Noida</th>\n",
       "      <th>Expected_Attendance_Uncertain</th>\n",
       "      <th>Expected_Attendance_no</th>\n",
       "      <th>Expected_Attendance_yes</th>\n",
       "      <th>Marital_Status_Married</th>\n",
       "      <th>Marital_Status_Single</th>\n",
       "    </tr>\n",
       "  </thead>\n",
       "  <tbody>\n",
       "    <tr>\n",
       "      <th>0</th>\n",
       "      <td>1.0</td>\n",
       "      <td>1.0</td>\n",
       "      <td>1.0</td>\n",
       "      <td>1.0</td>\n",
       "      <td>1.0</td>\n",
       "      <td>1.0</td>\n",
       "      <td>1.0</td>\n",
       "      <td>4.0</td>\n",
       "      <td>0</td>\n",
       "      <td>0</td>\n",
       "      <td>...</td>\n",
       "      <td>0</td>\n",
       "      <td>0</td>\n",
       "      <td>1</td>\n",
       "      <td>0</td>\n",
       "      <td>0</td>\n",
       "      <td>0</td>\n",
       "      <td>0</td>\n",
       "      <td>1</td>\n",
       "      <td>0</td>\n",
       "      <td>1</td>\n",
       "    </tr>\n",
       "    <tr>\n",
       "      <th>1</th>\n",
       "      <td>1.0</td>\n",
       "      <td>1.0</td>\n",
       "      <td>1.0</td>\n",
       "      <td>1.0</td>\n",
       "      <td>1.0</td>\n",
       "      <td>1.0</td>\n",
       "      <td>1.0</td>\n",
       "      <td>4.0</td>\n",
       "      <td>0</td>\n",
       "      <td>0</td>\n",
       "      <td>...</td>\n",
       "      <td>0</td>\n",
       "      <td>0</td>\n",
       "      <td>1</td>\n",
       "      <td>0</td>\n",
       "      <td>0</td>\n",
       "      <td>0</td>\n",
       "      <td>0</td>\n",
       "      <td>1</td>\n",
       "      <td>0</td>\n",
       "      <td>1</td>\n",
       "    </tr>\n",
       "    <tr>\n",
       "      <th>2</th>\n",
       "      <td>-1.0</td>\n",
       "      <td>0.0</td>\n",
       "      <td>-1.0</td>\n",
       "      <td>-1.0</td>\n",
       "      <td>-1.0</td>\n",
       "      <td>-1.0</td>\n",
       "      <td>-1.0</td>\n",
       "      <td>4.0</td>\n",
       "      <td>0</td>\n",
       "      <td>0</td>\n",
       "      <td>...</td>\n",
       "      <td>0</td>\n",
       "      <td>0</td>\n",
       "      <td>1</td>\n",
       "      <td>0</td>\n",
       "      <td>0</td>\n",
       "      <td>1</td>\n",
       "      <td>0</td>\n",
       "      <td>0</td>\n",
       "      <td>0</td>\n",
       "      <td>1</td>\n",
       "    </tr>\n",
       "    <tr>\n",
       "      <th>3</th>\n",
       "      <td>1.0</td>\n",
       "      <td>1.0</td>\n",
       "      <td>0.0</td>\n",
       "      <td>1.0</td>\n",
       "      <td>0.0</td>\n",
       "      <td>1.0</td>\n",
       "      <td>1.0</td>\n",
       "      <td>4.0</td>\n",
       "      <td>0</td>\n",
       "      <td>0</td>\n",
       "      <td>...</td>\n",
       "      <td>0</td>\n",
       "      <td>0</td>\n",
       "      <td>1</td>\n",
       "      <td>0</td>\n",
       "      <td>0</td>\n",
       "      <td>1</td>\n",
       "      <td>0</td>\n",
       "      <td>0</td>\n",
       "      <td>0</td>\n",
       "      <td>1</td>\n",
       "    </tr>\n",
       "    <tr>\n",
       "      <th>4</th>\n",
       "      <td>1.0</td>\n",
       "      <td>1.0</td>\n",
       "      <td>1.0</td>\n",
       "      <td>0.0</td>\n",
       "      <td>1.0</td>\n",
       "      <td>1.0</td>\n",
       "      <td>1.0</td>\n",
       "      <td>4.0</td>\n",
       "      <td>0</td>\n",
       "      <td>0</td>\n",
       "      <td>...</td>\n",
       "      <td>0</td>\n",
       "      <td>0</td>\n",
       "      <td>1</td>\n",
       "      <td>0</td>\n",
       "      <td>0</td>\n",
       "      <td>1</td>\n",
       "      <td>0</td>\n",
       "      <td>0</td>\n",
       "      <td>1</td>\n",
       "      <td>0</td>\n",
       "    </tr>\n",
       "  </tbody>\n",
       "</table>\n",
       "<p>5 rows × 63 columns</p>\n",
       "</div>"
      ],
      "text/plain": [
       "   Permission_acquired  No_unscheduled  Call_before_and_follow_up  \\\n",
       "0                  1.0             1.0                        1.0   \n",
       "1                  1.0             1.0                        1.0   \n",
       "2                 -1.0             0.0                       -1.0   \n",
       "3                  1.0             1.0                        0.0   \n",
       "4                  1.0             1.0                        1.0   \n",
       "\n",
       "   Extra_phone_number  Got_CV_and_read_JD  Clear_on_venue  Letter_shared  \\\n",
       "0                 1.0                 1.0             1.0            1.0   \n",
       "1                 1.0                 1.0             1.0            1.0   \n",
       "2                -1.0                -1.0            -1.0           -1.0   \n",
       "3                 1.0                 0.0             1.0            1.0   \n",
       "4                 0.0                 1.0             1.0            1.0   \n",
       "\n",
       "   Day_of_Week  Client_ANZ  Client_Astrazeneca  ...  Interview_Venue_Cochin  \\\n",
       "0          4.0           0                   0  ...                       0   \n",
       "1          4.0           0                   0  ...                       0   \n",
       "2          4.0           0                   0  ...                       0   \n",
       "3          4.0           0                   0  ...                       0   \n",
       "4          4.0           0                   0  ...                       0   \n",
       "\n",
       "   Interview_Venue_Gurgaon  Interview_Venue_Hosur  Interview_Venue_Hyderabad  \\\n",
       "0                        0                      1                          0   \n",
       "1                        0                      1                          0   \n",
       "2                        0                      1                          0   \n",
       "3                        0                      1                          0   \n",
       "4                        0                      1                          0   \n",
       "\n",
       "   Interview_Venue_Noida  Expected_Attendance_Uncertain  \\\n",
       "0                      0                              0   \n",
       "1                      0                              0   \n",
       "2                      0                              1   \n",
       "3                      0                              1   \n",
       "4                      0                              1   \n",
       "\n",
       "   Expected_Attendance_no  Expected_Attendance_yes  Marital_Status_Married  \\\n",
       "0                       0                        1                       0   \n",
       "1                       0                        1                       0   \n",
       "2                       0                        0                       0   \n",
       "3                       0                        0                       0   \n",
       "4                       0                        0                       1   \n",
       "\n",
       "   Marital_Status_Single  \n",
       "0                      1  \n",
       "1                      1  \n",
       "2                      1  \n",
       "3                      1  \n",
       "4                      0  \n",
       "\n",
       "[5 rows x 63 columns]"
      ]
     },
     "execution_count": 114,
     "metadata": {},
     "output_type": "execute_result"
    }
   ],
   "source": [
    "from sklearn.svm import SVC\n",
    "\n",
    "y = df.Observed_Attendance\n",
    "X = df.drop('Observed_Attendance', axis =1)\n",
    "X.drop('Location',axis=1,inplace=True)\n",
    "X.drop(['date','Cand_ID'], axis = 1, inplace = True)\n",
    "\n",
    "#We will one hot encode for the SVM, as 'order' does not make sense for our indpendent variables\n",
    "X = pd.get_dummies(X)\n",
    "X.head()"
   ]
  },
  {
   "cell_type": "code",
   "execution_count": 115,
   "metadata": {},
   "outputs": [
    {
     "name": "stdout",
     "output_type": "stream",
     "text": [
      "Mean Accuracy of Vanilla SVM: 0.7068340390005368\n"
     ]
    }
   ],
   "source": [
    "clf_svm = SVC()\n",
    "SVM_cv_score = cross_val_score(clf_svm,X = X,y = y,cv=3,scoring='accuracy')\n",
    "mean_SVM_cv_score = SVM_cv_score.mean()\n",
    "print ('Mean Accuracy of Vanilla SVM: {}'.format(mean_SVM_cv_score))\n"
   ]
  },
  {
   "cell_type": "code",
   "execution_count": 116,
   "metadata": {},
   "outputs": [],
   "source": [
    "param_grid_svm = {\"C\" : np.linspace(.1, 1e6, num=11),\n",
    "             \"gamma\" : np.linspace(10**-5, 5, num=11)}"
   ]
  },
  {
   "cell_type": "code",
   "execution_count": 117,
   "metadata": {},
   "outputs": [
    {
     "name": "stdout",
     "output_type": "stream",
     "text": [
      "Testing Accuracy: 70.68%\n",
      "Total Runtime for Grid Search on SVM Classifier: 48.48 seconds\n",
      "\n",
      "Optimal Parameters: {'C': 1000000.0, 'gamma': 1e-05}\n"
     ]
    }
   ],
   "source": [
    "start = time.time()\n",
    "svm_grid_search = GridSearchCV(clf_svm,param_grid=param_grid_svm,cv=3, scoring='accuracy')\n",
    "svm_grid_search.fit(X, y)\n",
    "\n",
    "print(\"Testing Accuracy: {:.4}%\".format(svm_grid_search.best_score_ * 100))\n",
    "print(\"Total Runtime for Grid Search on SVM Classifier: {:.4} seconds\".format(time.time() - start))\n",
    "print(\"\")\n",
    "print(\"Optimal Parameters: {}\".format(svm_grid_search.best_params_))"
   ]
  },
  {
   "cell_type": "markdown",
   "metadata": {},
   "source": [
    "<a id='Further_Work'></a>"
   ]
  },
  {
   "cell_type": "markdown",
   "metadata": {},
   "source": [
    "# Further work\n",
    "\n",
    "I have used accuracy to evaluate these algorithms. In a business environment, we would need to agree whether this is the correct metric, or whether false negatives and false positives should be treated differently. \n",
    "\n",
    "For example, if we were to say we want to reduce false positives i.e. we want fewer people we think are going to interview and then don't show. These people will particularly annoy employers! In order to do this, we would look at the ROC curve for the algorithms and aim to optimise for false positive rate."
   ]
  }
 ],
 "metadata": {
  "kernelspec": {
   "display_name": "Python 3",
   "language": "python",
   "name": "python3"
  },
  "language_info": {
   "codemirror_mode": {
    "name": "ipython",
    "version": 3
   },
   "file_extension": ".py",
   "mimetype": "text/x-python",
   "name": "python",
   "nbconvert_exporter": "python",
   "pygments_lexer": "ipython3",
   "version": "3.6.5"
  }
 },
 "nbformat": 4,
 "nbformat_minor": 2
}
